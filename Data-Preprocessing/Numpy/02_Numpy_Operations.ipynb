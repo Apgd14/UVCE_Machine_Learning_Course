{
 "cells": [
  {
   "cell_type": "markdown",
   "metadata": {},
   "source": [
    "# Numpy Operations\n",
    "\n",
    "## Arithematic Operations on a numpy array"
   ]
  },
  {
   "cell_type": "code",
   "execution_count": 1,
   "metadata": {},
   "outputs": [
    {
     "name": "stdout",
     "output_type": "stream",
     "text": [
      "Import Successful\n"
     ]
    }
   ],
   "source": [
    "# Importing the numpy library\n",
    "import numpy as np\n",
    "\n",
    "print(\"Import Successful\")"
   ]
  },
  {
   "cell_type": "code",
   "execution_count": 3,
   "metadata": {},
   "outputs": [
    {
     "name": "stdout",
     "output_type": "stream",
     "text": [
      "arr1: [63 64 69 79 50 54 68 70 42 99 75 95 64 48 88]\n",
      "arr2: [45 38 78 52 44 88 58 96 87 65 76 49 44 50 65]\n"
     ]
    }
   ],
   "source": [
    "# Create 2 array to perform operations\n",
    "\n",
    "arr1 = np.random.randint(35, 100, 15)\n",
    "arr2 = np.random.randint(35, 100, 15)\n",
    "\n",
    "# Print the  2 arrays\n",
    "print(\"arr1:\" , arr1)\n",
    "print(\"arr2:\", arr2)"
   ]
  },
  {
   "cell_type": "markdown",
   "metadata": {},
   "source": [
    "## Vectorization operations\n",
    "\n",
    "Performing Addition, Subtraction, Division and Multiplication on a numpy array results into a vectorization operation\n",
    "\n",
    "#### Division operation raises a warning for division by zero error instead of a error\n",
    "\n",
    "Each element of the first array gets added, subtracted, divided or multiplied with each element of the second array. This is called Vectorization Operations of arrays"
   ]
  },
  {
   "cell_type": "code",
   "execution_count": 4,
   "metadata": {},
   "outputs": [
    {
     "data": {
      "text/plain": [
       "array([108, 102, 147, 131,  94, 142, 126, 166, 129, 164, 151, 144, 108,\n",
       "        98, 153])"
      ]
     },
     "execution_count": 4,
     "metadata": {},
     "output_type": "execute_result"
    }
   ],
   "source": [
    "# Adding the 2 arrays\n",
    "arr1 + arr2"
   ]
  },
  {
   "cell_type": "code",
   "execution_count": 5,
   "metadata": {},
   "outputs": [
    {
     "data": {
      "text/plain": [
       "array([ 18,  26,  -9,  27,   6, -34,  10, -26, -45,  34,  -1,  46,  20,\n",
       "        -2,  23])"
      ]
     },
     "execution_count": 5,
     "metadata": {},
     "output_type": "execute_result"
    }
   ],
   "source": [
    "# Subtracting 2 arrays\n",
    "arr1 - arr2"
   ]
  },
  {
   "cell_type": "code",
   "execution_count": 6,
   "metadata": {},
   "outputs": [
    {
     "data": {
      "text/plain": [
       "array([2835, 2432, 5382, 4108, 2200, 4752, 3944, 6720, 3654, 6435, 5700,\n",
       "       4655, 2816, 2400, 5720])"
      ]
     },
     "execution_count": 6,
     "metadata": {},
     "output_type": "execute_result"
    }
   ],
   "source": [
    "# Multiplying 2 arrays\n",
    "arr1 * arr2"
   ]
  },
  {
   "cell_type": "code",
   "execution_count": 7,
   "metadata": {},
   "outputs": [
    {
     "data": {
      "text/plain": [
       "array([1.4       , 1.68421053, 0.88461538, 1.51923077, 1.13636364,\n",
       "       0.61363636, 1.17241379, 0.72916667, 0.48275862, 1.52307692,\n",
       "       0.98684211, 1.93877551, 1.45454545, 0.96      , 1.35384615])"
      ]
     },
     "execution_count": 7,
     "metadata": {},
     "output_type": "execute_result"
    }
   ],
   "source": [
    "# Dividing 2 arrays\n",
    "arr1 / arr2"
   ]
  },
  {
   "cell_type": "markdown",
   "metadata": {},
   "source": [
    "### Broadcasting Operation on a numpy array\n",
    "\n",
    "Broadcasting is when a scalar is added, subtracted, multiplied or divided to numpy array each element of the array gets added, subtracted, multiplied or divided with the scalar number."
   ]
  },
  {
   "cell_type": "code",
   "execution_count": 8,
   "metadata": {},
   "outputs": [
    {
     "data": {
      "text/plain": [
       "array([126, 128, 138, 158, 100, 108, 136, 140,  84, 198, 150, 190, 128,\n",
       "        96, 176])"
      ]
     },
     "execution_count": 8,
     "metadata": {},
     "output_type": "execute_result"
    }
   ],
   "source": [
    "arr1 * 2"
   ]
  },
  {
   "cell_type": "code",
   "execution_count": 9,
   "metadata": {},
   "outputs": [
    {
     "data": {
      "text/plain": [
       "array([ 50,  43,  83,  57,  49,  93,  63, 101,  92,  70,  81,  54,  49,\n",
       "        55,  70])"
      ]
     },
     "execution_count": 9,
     "metadata": {},
     "output_type": "execute_result"
    }
   ],
   "source": [
    "arr2 + 5"
   ]
  },
  {
   "cell_type": "code",
   "execution_count": 10,
   "metadata": {},
   "outputs": [
    {
     "data": {
      "text/plain": [
       "array([31.5, 32. , 34.5, 39.5, 25. , 27. , 34. , 35. , 21. , 49.5, 37.5,\n",
       "       47.5, 32. , 24. , 44. ])"
      ]
     },
     "execution_count": 10,
     "metadata": {},
     "output_type": "execute_result"
    }
   ],
   "source": [
    "arr1 / 2"
   ]
  },
  {
   "cell_type": "code",
   "execution_count": 11,
   "metadata": {},
   "outputs": [
    {
     "data": {
      "text/plain": [
       "array([25, 18, 58, 32, 24, 68, 38, 76, 67, 45, 56, 29, 24, 30, 45])"
      ]
     },
     "execution_count": 11,
     "metadata": {},
     "output_type": "execute_result"
    }
   ],
   "source": [
    "arr2 - 20"
   ]
  }
 ],
 "metadata": {
  "kernelspec": {
   "display_name": "Python 3",
   "language": "python",
   "name": "python3"
  },
  "language_info": {
   "codemirror_mode": {
    "name": "ipython",
    "version": 3
   },
   "file_extension": ".py",
   "mimetype": "text/x-python",
   "name": "python",
   "nbconvert_exporter": "python",
   "pygments_lexer": "ipython3",
   "version": "3.7.1"
  }
 },
 "nbformat": 4,
 "nbformat_minor": 2
}
