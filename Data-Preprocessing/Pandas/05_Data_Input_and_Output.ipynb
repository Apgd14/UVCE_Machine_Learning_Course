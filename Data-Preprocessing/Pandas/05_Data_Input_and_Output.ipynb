{
 "cells": [
  {
   "cell_type": "markdown",
   "metadata": {},
   "source": [
    "# Data Input and Output"
   ]
  },
  {
   "cell_type": "code",
   "execution_count": 1,
   "metadata": {},
   "outputs": [
    {
     "name": "stdout",
     "output_type": "stream",
     "text": [
      "Import Successful\n"
     ]
    }
   ],
   "source": [
    "# Importing the necessary libraries\n",
    "import numpy as np\n",
    "import pandas as pd\n",
    "import os\n",
    "\n",
    "# Print a message\n",
    "print(\"Import Successful\")"
   ]
  },
  {
   "cell_type": "code",
   "execution_count": 2,
   "metadata": {},
   "outputs": [
    {
     "data": {
      "text/plain": [
       "'F:\\\\machine_learning_uvce\\\\uvce-mar9-ml-master\\\\Data-preprocessing\\\\Pandas'"
      ]
     },
     "execution_count": 2,
     "metadata": {},
     "output_type": "execute_result"
    }
   ],
   "source": [
    "# Set the working directory\n",
    "os.chdir(\"F:\\\\machine_learning_uvce\\\\uvce-mar9-ml-master\\\\Data-preprocessing\\\\Pandas\")\n",
    "\n",
    "# Verify the working directory\n",
    "os.getcwd()"
   ]
  },
  {
   "cell_type": "markdown",
   "metadata": {},
   "source": [
    "## CSV Input"
   ]
  },
  {
   "cell_type": "code",
   "execution_count": 3,
   "metadata": {
    "scrolled": true
   },
   "outputs": [
    {
     "data": {
      "text/html": [
       "<div>\n",
       "<style scoped>\n",
       "    .dataframe tbody tr th:only-of-type {\n",
       "        vertical-align: middle;\n",
       "    }\n",
       "\n",
       "    .dataframe tbody tr th {\n",
       "        vertical-align: top;\n",
       "    }\n",
       "\n",
       "    .dataframe thead th {\n",
       "        text-align: right;\n",
       "    }\n",
       "</style>\n",
       "<table border=\"1\" class=\"dataframe\">\n",
       "  <thead>\n",
       "    <tr style=\"text-align: right;\">\n",
       "      <th></th>\n",
       "      <th>1</th>\n",
       "      <th>2</th>\n",
       "      <th>3</th>\n",
       "      <th>4</th>\n",
       "      <th>5</th>\n",
       "      <th>6</th>\n",
       "      <th>7</th>\n",
       "      <th>8</th>\n",
       "      <th>9</th>\n",
       "      <th>10</th>\n",
       "    </tr>\n",
       "  </thead>\n",
       "  <tbody>\n",
       "    <tr>\n",
       "      <td>ball</td>\n",
       "      <td>1</td>\n",
       "      <td>0.1</td>\n",
       "      <td>England</td>\n",
       "      <td>ME Trescothick</td>\n",
       "      <td>GO Jones</td>\n",
       "      <td>B Lee</td>\n",
       "      <td>0</td>\n",
       "      <td>0</td>\n",
       "      <td>NaN</td>\n",
       "      <td>NaN</td>\n",
       "    </tr>\n",
       "    <tr>\n",
       "      <td>ball</td>\n",
       "      <td>1</td>\n",
       "      <td>0.2</td>\n",
       "      <td>England</td>\n",
       "      <td>ME Trescothick</td>\n",
       "      <td>GO Jones</td>\n",
       "      <td>B Lee</td>\n",
       "      <td>1</td>\n",
       "      <td>0</td>\n",
       "      <td>NaN</td>\n",
       "      <td>NaN</td>\n",
       "    </tr>\n",
       "    <tr>\n",
       "      <td>ball</td>\n",
       "      <td>1</td>\n",
       "      <td>0.3</td>\n",
       "      <td>England</td>\n",
       "      <td>GO Jones</td>\n",
       "      <td>ME Trescothick</td>\n",
       "      <td>B Lee</td>\n",
       "      <td>0</td>\n",
       "      <td>0</td>\n",
       "      <td>NaN</td>\n",
       "      <td>NaN</td>\n",
       "    </tr>\n",
       "    <tr>\n",
       "      <td>ball</td>\n",
       "      <td>1</td>\n",
       "      <td>0.4</td>\n",
       "      <td>England</td>\n",
       "      <td>GO Jones</td>\n",
       "      <td>ME Trescothick</td>\n",
       "      <td>B Lee</td>\n",
       "      <td>0</td>\n",
       "      <td>0</td>\n",
       "      <td>NaN</td>\n",
       "      <td>NaN</td>\n",
       "    </tr>\n",
       "    <tr>\n",
       "      <td>ball</td>\n",
       "      <td>1</td>\n",
       "      <td>0.5</td>\n",
       "      <td>England</td>\n",
       "      <td>GO Jones</td>\n",
       "      <td>ME Trescothick</td>\n",
       "      <td>B Lee</td>\n",
       "      <td>0</td>\n",
       "      <td>0</td>\n",
       "      <td>NaN</td>\n",
       "      <td>NaN</td>\n",
       "    </tr>\n",
       "  </tbody>\n",
       "</table>\n",
       "</div>"
      ],
      "text/plain": [
       "      1    2        3               4               5      6  7  8    9   10\n",
       "ball  1  0.1  England  ME Trescothick        GO Jones  B Lee  0  0  NaN  NaN\n",
       "ball  1  0.2  England  ME Trescothick        GO Jones  B Lee  1  0  NaN  NaN\n",
       "ball  1  0.3  England        GO Jones  ME Trescothick  B Lee  0  0  NaN  NaN\n",
       "ball  1  0.4  England        GO Jones  ME Trescothick  B Lee  0  0  NaN  NaN\n",
       "ball  1  0.5  England        GO Jones  ME Trescothick  B Lee  0  0  NaN  NaN"
      ]
     },
     "execution_count": 3,
     "metadata": {},
     "output_type": "execute_result"
    }
   ],
   "source": [
    "# Reading a CSV file\n",
    "df = pd.read_csv(\"cricketdata.csv\")\n",
    "\n",
    "# Print the first five rows of the dataframe\n",
    "df.head()"
   ]
  },
  {
   "cell_type": "code",
   "execution_count": 4,
   "metadata": {},
   "outputs": [
    {
     "data": {
      "text/plain": [
       "\"\\n        Apply a function along an axis of the DataFrame.\\n\\n        Objects passed to the function are Series objects whose index is\\n        either the DataFrame's index (``axis=0``) or the DataFrame's columns\\n        (``axis=1``). By default (``result_type=None``), the final return type\\n        is inferred from the return type of the applied function. Otherwise,\\n        it depends on the `result_type` argument.\\n\\n        Parameters\\n        ----------\\n        func : function\\n            Function to apply to each column or row.\\n        axis : {0 or 'index', 1 or 'columns'}, default 0\\n            Axis along which the function is applied:\\n\\n            * 0 or 'index': apply function to each column.\\n            * 1 or 'columns': apply function to each row.\\n        broadcast : bool, optional\\n            Only relevant for aggregation functions:\\n\\n            * ``False`` or ``None`` : returns a Series whose length is the\\n              length of the index or the number of columns (based on the\\n              `axis` parameter)\\n            * ``True`` : results will be broadcast to the original shape\\n              of the frame, the original index and columns will be retained.\\n\\n            .. deprecated:: 0.23.0\\n               This argument will be removed in a future version, replaced\\n               by result_type='broadcast'.\\n\\n        raw : bool, default False\\n            * ``False`` : passes each row or column as a Series to the\\n              function.\\n            * ``True`` : the passed function will receive ndarray objects\\n              instead.\\n              If you are just applying a NumPy reduction function this will\\n              achieve much better performance.\\n        reduce : bool or None, default None\\n            Try to apply reduction procedures. If the DataFrame is empty,\\n            `apply` will use `reduce` to determine whether the result\\n            should be a Series or a DataFrame. If ``reduce=None`` (the\\n            default), `apply`'s return value will be guessed by calling\\n            `func` on an empty Series\\n            (note: while guessing, exceptions raised by `func` will be\\n            ignored).\\n            If ``reduce=True`` a Series will always be returned, and if\\n            ``reduce=False`` a DataFrame will always be returned.\\n\\n            .. deprecated:: 0.23.0\\n               This argument will be removed in a future version, replaced\\n               by ``result_type='reduce'``.\\n\\n        result_type : {'expand', 'reduce', 'broadcast', None}, default None\\n            These only act when ``axis=1`` (columns):\\n\\n            * 'expand' : list-like results will be turned into columns.\\n            * 'reduce' : returns a Series if possible rather than expanding\\n              list-like results. This is the opposite of 'expand'.\\n            * 'broadcast' : results will be broadcast to the original shape\\n              of the DataFrame, the original index and columns will be\\n              retained.\\n\\n            The default behaviour (None) depends on the return value of the\\n            applied function: list-like results will be returned as a Series\\n            of those. However if the apply function returns a Series these\\n            are expanded to columns.\\n\\n            .. versionadded:: 0.23.0\\n\\n        args : tuple\\n            Positional arguments to pass to `func` in addition to the\\n            array/series.\\n        **kwds\\n            Additional keyword arguments to pass as keywords arguments to\\n            `func`.\\n\\n        Returns\\n        -------\\n        Series or DataFrame\\n            Result of applying ``func`` along the given axis of the\\n            DataFrame.\\n\\n        See Also\\n        --------\\n        DataFrame.applymap: For elementwise operations.\\n        DataFrame.aggregate: Only perform aggregating type operations.\\n        DataFrame.transform: Only perform transforming type operations.\\n\\n        Notes\\n        -----\\n        In the current implementation apply calls `func` twice on the\\n        first column/row to decide whether it can take a fast or slow\\n        code path. This can lead to unexpected behavior if `func` has\\n        side-effects, as they will take effect twice for the first\\n        column/row.\\n\\n        Examples\\n        --------\\n\\n        >>> df = pd.DataFrame([[4, 9]] * 3, columns=['A', 'B'])\\n        >>> df\\n           A  B\\n        0  4  9\\n        1  4  9\\n        2  4  9\\n\\n        Using a numpy universal function (in this case the same as\\n        ``np.sqrt(df)``):\\n\\n        >>> df.apply(np.sqrt)\\n             A    B\\n        0  2.0  3.0\\n        1  2.0  3.0\\n        2  2.0  3.0\\n\\n        Using a reducing function on either axis\\n\\n        >>> df.apply(np.sum, axis=0)\\n        A    12\\n        B    27\\n        dtype: int64\\n\\n        >>> df.apply(np.sum, axis=1)\\n        0    13\\n        1    13\\n        2    13\\n        dtype: int64\\n\\n        Returning a list-like will result in a Series\\n\\n        >>> df.apply(lambda x: [1, 2], axis=1)\\n        0    [1, 2]\\n        1    [1, 2]\\n        2    [1, 2]\\n        dtype: object\\n\\n        Passing result_type='expand' will expand list-like results\\n        to columns of a Dataframe\\n\\n        >>> df.apply(lambda x: [1, 2], axis=1, result_type='expand')\\n           0  1\\n        0  1  2\\n        1  1  2\\n        2  1  2\\n\\n        Returning a Series inside the function is similar to passing\\n        ``result_type='expand'``. The resulting column names\\n        will be the Series index.\\n\\n        >>> df.apply(lambda x: pd.Series([1, 2], index=['foo', 'bar']), axis=1)\\n           foo  bar\\n        0    1    2\\n        1    1    2\\n        2    1    2\\n\\n        Passing ``result_type='broadcast'`` will ensure the same shape\\n        result, whether list-like or scalar is returned by the function,\\n        and broadcast it along the axis. The resulting column names will\\n        be the originals.\\n\\n        >>> df.apply(lambda x: [1, 2], axis=1, result_type='broadcast')\\n           A  B\\n        0  1  2\\n        1  1  2\\n        2  1  2\\n        \""
      ]
     },
     "execution_count": 4,
     "metadata": {},
     "output_type": "execute_result"
    }
   ],
   "source": [
    "# To see the original csv data\n",
    "df.apply.__doc__"
   ]
  },
  {
   "cell_type": "code",
   "execution_count": 5,
   "metadata": {},
   "outputs": [
    {
     "data": {
      "text/html": [
       "<div>\n",
       "<style scoped>\n",
       "    .dataframe tbody tr th:only-of-type {\n",
       "        vertical-align: middle;\n",
       "    }\n",
       "\n",
       "    .dataframe tbody tr th {\n",
       "        vertical-align: top;\n",
       "    }\n",
       "\n",
       "    .dataframe thead th {\n",
       "        text-align: right;\n",
       "    }\n",
       "</style>\n",
       "<table border=\"1\" class=\"dataframe\">\n",
       "  <thead>\n",
       "    <tr style=\"text-align: right;\">\n",
       "      <th></th>\n",
       "      <th>1</th>\n",
       "      <th>2</th>\n",
       "      <th>3</th>\n",
       "      <th>4</th>\n",
       "      <th>5</th>\n",
       "      <th>6</th>\n",
       "      <th>7</th>\n",
       "      <th>8</th>\n",
       "      <th>9</th>\n",
       "      <th>10</th>\n",
       "    </tr>\n",
       "  </thead>\n",
       "  <tbody>\n",
       "    <tr>\n",
       "      <td>ball</td>\n",
       "      <td>1</td>\n",
       "      <td>0.1</td>\n",
       "      <td>England</td>\n",
       "      <td>ME Trescothick</td>\n",
       "      <td>GO Jones</td>\n",
       "      <td>B Lee</td>\n",
       "      <td>0</td>\n",
       "      <td>0</td>\n",
       "      <td>NaN</td>\n",
       "      <td>NaN</td>\n",
       "    </tr>\n",
       "    <tr>\n",
       "      <td>ball</td>\n",
       "      <td>1</td>\n",
       "      <td>0.2</td>\n",
       "      <td>England</td>\n",
       "      <td>ME Trescothick</td>\n",
       "      <td>GO Jones</td>\n",
       "      <td>B Lee</td>\n",
       "      <td>1</td>\n",
       "      <td>0</td>\n",
       "      <td>NaN</td>\n",
       "      <td>NaN</td>\n",
       "    </tr>\n",
       "    <tr>\n",
       "      <td>ball</td>\n",
       "      <td>1</td>\n",
       "      <td>0.3</td>\n",
       "      <td>England</td>\n",
       "      <td>GO Jones</td>\n",
       "      <td>ME Trescothick</td>\n",
       "      <td>B Lee</td>\n",
       "      <td>0</td>\n",
       "      <td>0</td>\n",
       "      <td>NaN</td>\n",
       "      <td>NaN</td>\n",
       "    </tr>\n",
       "    <tr>\n",
       "      <td>ball</td>\n",
       "      <td>1</td>\n",
       "      <td>0.4</td>\n",
       "      <td>England</td>\n",
       "      <td>GO Jones</td>\n",
       "      <td>ME Trescothick</td>\n",
       "      <td>B Lee</td>\n",
       "      <td>0</td>\n",
       "      <td>0</td>\n",
       "      <td>NaN</td>\n",
       "      <td>NaN</td>\n",
       "    </tr>\n",
       "    <tr>\n",
       "      <td>ball</td>\n",
       "      <td>1</td>\n",
       "      <td>0.5</td>\n",
       "      <td>England</td>\n",
       "      <td>GO Jones</td>\n",
       "      <td>ME Trescothick</td>\n",
       "      <td>B Lee</td>\n",
       "      <td>0</td>\n",
       "      <td>0</td>\n",
       "      <td>NaN</td>\n",
       "      <td>NaN</td>\n",
       "    </tr>\n",
       "  </tbody>\n",
       "</table>\n",
       "</div>"
      ],
      "text/plain": [
       "      1    2        3               4               5      6  7  8    9   10\n",
       "ball  1  0.1  England  ME Trescothick        GO Jones  B Lee  0  0  NaN  NaN\n",
       "ball  1  0.2  England  ME Trescothick        GO Jones  B Lee  1  0  NaN  NaN\n",
       "ball  1  0.3  England        GO Jones  ME Trescothick  B Lee  0  0  NaN  NaN\n",
       "ball  1  0.4  England        GO Jones  ME Trescothick  B Lee  0  0  NaN  NaN\n",
       "ball  1  0.5  England        GO Jones  ME Trescothick  B Lee  0  0  NaN  NaN"
      ]
     },
     "execution_count": 5,
     "metadata": {},
     "output_type": "execute_result"
    }
   ],
   "source": [
    "# Create a deep copy of the data so that any changes made to the copy should not be reflected to the original data\n",
    "cricket_data = df.copy(deep = True)\n",
    "\n",
    "# Print the first five rows\n",
    "cricket_data.head()"
   ]
  },
  {
   "cell_type": "code",
   "execution_count": 6,
   "metadata": {},
   "outputs": [
    {
     "data": {
      "text/plain": [
       "46"
      ]
     },
     "execution_count": 6,
     "metadata": {},
     "output_type": "execute_result"
    }
   ],
   "source": [
    "# Calculating the total runs scored by PD Collingwood\n",
    "sum(cricket_data[cricket_data[\"4\"] == \"PD Collingwood\"][\"7\"])"
   ]
  },
  {
   "cell_type": "code",
   "execution_count": 7,
   "metadata": {},
   "outputs": [
    {
     "data": {
      "text/plain": [
       "4\n",
       "A Flintoff         6\n",
       "A Symonds          0\n",
       "AC Gilchrist      15\n",
       "AJ Strauss        18\n",
       "B Lee             15\n",
       "DR Martyn          4\n",
       "GD McGrath         5\n",
       "GO Jones          19\n",
       "JN Gillespie      24\n",
       "KP Pietersen      34\n",
       "ME Trescothick    41\n",
       "MEK Hussey         1\n",
       "MJ Clarke          0\n",
       "ML Hayden          6\n",
       "MP Vaughan         0\n",
       "MS Kasprowicz      3\n",
       "PD Collingwood    46\n",
       "RT Ponting         0\n",
       "VS Solanki         9\n",
       "Name: 7, dtype: int64"
      ]
     },
     "execution_count": 7,
     "metadata": {},
     "output_type": "execute_result"
    }
   ],
   "source": [
    "# To see the  runs scored by all the batsmen using the groupby function\n",
    "cricket_data.groupby(\"4\")[\"7\"].sum()"
   ]
  },
  {
   "cell_type": "code",
   "execution_count": 8,
   "metadata": {},
   "outputs": [
    {
     "data": {
      "text/html": [
       "<div>\n",
       "<style scoped>\n",
       "    .dataframe tbody tr th:only-of-type {\n",
       "        vertical-align: middle;\n",
       "    }\n",
       "\n",
       "    .dataframe tbody tr th {\n",
       "        vertical-align: top;\n",
       "    }\n",
       "\n",
       "    .dataframe thead th {\n",
       "        text-align: right;\n",
       "    }\n",
       "</style>\n",
       "<table border=\"1\" class=\"dataframe\">\n",
       "  <thead>\n",
       "    <tr style=\"text-align: right;\">\n",
       "      <th></th>\n",
       "      <th>1</th>\n",
       "      <th>2</th>\n",
       "      <th>3</th>\n",
       "      <th>4</th>\n",
       "      <th>5</th>\n",
       "      <th>6</th>\n",
       "      <th>7</th>\n",
       "      <th>8</th>\n",
       "      <th>9</th>\n",
       "      <th>10</th>\n",
       "      <th>each_ball</th>\n",
       "    </tr>\n",
       "  </thead>\n",
       "  <tbody>\n",
       "    <tr>\n",
       "      <td>ball</td>\n",
       "      <td>1</td>\n",
       "      <td>0.1</td>\n",
       "      <td>England</td>\n",
       "      <td>ME Trescothick</td>\n",
       "      <td>GO Jones</td>\n",
       "      <td>B Lee</td>\n",
       "      <td>0</td>\n",
       "      <td>0</td>\n",
       "      <td>NaN</td>\n",
       "      <td>NaN</td>\n",
       "      <td>0</td>\n",
       "    </tr>\n",
       "    <tr>\n",
       "      <td>ball</td>\n",
       "      <td>1</td>\n",
       "      <td>0.2</td>\n",
       "      <td>England</td>\n",
       "      <td>ME Trescothick</td>\n",
       "      <td>GO Jones</td>\n",
       "      <td>B Lee</td>\n",
       "      <td>1</td>\n",
       "      <td>0</td>\n",
       "      <td>NaN</td>\n",
       "      <td>NaN</td>\n",
       "      <td>1</td>\n",
       "    </tr>\n",
       "    <tr>\n",
       "      <td>ball</td>\n",
       "      <td>1</td>\n",
       "      <td>0.3</td>\n",
       "      <td>England</td>\n",
       "      <td>GO Jones</td>\n",
       "      <td>ME Trescothick</td>\n",
       "      <td>B Lee</td>\n",
       "      <td>0</td>\n",
       "      <td>0</td>\n",
       "      <td>NaN</td>\n",
       "      <td>NaN</td>\n",
       "      <td>0</td>\n",
       "    </tr>\n",
       "    <tr>\n",
       "      <td>ball</td>\n",
       "      <td>1</td>\n",
       "      <td>0.4</td>\n",
       "      <td>England</td>\n",
       "      <td>GO Jones</td>\n",
       "      <td>ME Trescothick</td>\n",
       "      <td>B Lee</td>\n",
       "      <td>0</td>\n",
       "      <td>0</td>\n",
       "      <td>NaN</td>\n",
       "      <td>NaN</td>\n",
       "      <td>0</td>\n",
       "    </tr>\n",
       "    <tr>\n",
       "      <td>ball</td>\n",
       "      <td>1</td>\n",
       "      <td>0.5</td>\n",
       "      <td>England</td>\n",
       "      <td>GO Jones</td>\n",
       "      <td>ME Trescothick</td>\n",
       "      <td>B Lee</td>\n",
       "      <td>0</td>\n",
       "      <td>0</td>\n",
       "      <td>NaN</td>\n",
       "      <td>NaN</td>\n",
       "      <td>0</td>\n",
       "    </tr>\n",
       "  </tbody>\n",
       "</table>\n",
       "</div>"
      ],
      "text/plain": [
       "      1    2        3               4               5      6  7  8    9   10  \\\n",
       "ball  1  0.1  England  ME Trescothick        GO Jones  B Lee  0  0  NaN  NaN   \n",
       "ball  1  0.2  England  ME Trescothick        GO Jones  B Lee  1  0  NaN  NaN   \n",
       "ball  1  0.3  England        GO Jones  ME Trescothick  B Lee  0  0  NaN  NaN   \n",
       "ball  1  0.4  England        GO Jones  ME Trescothick  B Lee  0  0  NaN  NaN   \n",
       "ball  1  0.5  England        GO Jones  ME Trescothick  B Lee  0  0  NaN  NaN   \n",
       "\n",
       "      each_ball  \n",
       "ball          0  \n",
       "ball          1  \n",
       "ball          0  \n",
       "ball          0  \n",
       "ball          0  "
      ]
     },
     "execution_count": 8,
     "metadata": {},
     "output_type": "execute_result"
    }
   ],
   "source": [
    "# Calculating the total runs scored including extras\n",
    "cricket_data[\"each_ball\"] =  cricket_data['7'] +  cricket_data['8']\n",
    "cricket_data.head()"
   ]
  },
  {
   "cell_type": "code",
   "execution_count": 9,
   "metadata": {},
   "outputs": [
    {
     "data": {
      "text/plain": [
       "258"
      ]
     },
     "execution_count": 9,
     "metadata": {},
     "output_type": "execute_result"
    }
   ],
   "source": [
    "# Calculating the score with extras\n",
    "sum(cricket_data[\"each_ball\"])"
   ]
  },
  {
   "cell_type": "code",
   "execution_count": 10,
   "metadata": {},
   "outputs": [
    {
     "data": {
      "text/plain": [
       "246"
      ]
     },
     "execution_count": 10,
     "metadata": {},
     "output_type": "execute_result"
    }
   ],
   "source": [
    "# Calculating the score without extras\n",
    "sum(cricket_data[\"7\"])"
   ]
  },
  {
   "cell_type": "code",
   "execution_count": 11,
   "metadata": {},
   "outputs": [
    {
     "data": {
      "text/plain": [
       "12"
      ]
     },
     "execution_count": 11,
     "metadata": {},
     "output_type": "execute_result"
    }
   ],
   "source": [
    "# Calculating the extras in the match\n",
    "sum(cricket_data[\"8\"])"
   ]
  },
  {
   "cell_type": "code",
   "execution_count": 12,
   "metadata": {},
   "outputs": [
    {
     "data": {
      "text/plain": [
       "1    12\n",
       "0     6\n",
       "4     5\n",
       "6     2\n",
       "2     1\n",
       "Name: 7, dtype: int64"
      ]
     },
     "execution_count": 12,
     "metadata": {},
     "output_type": "execute_result"
    }
   ],
   "source": [
    "# Calculating the distribution of scores\n",
    "cricket_data[cricket_data[\"4\"] == \"PD Collingwood\"][\"7\"].value_counts()"
   ]
  },
  {
   "cell_type": "code",
   "execution_count": 13,
   "metadata": {},
   "outputs": [
    {
     "data": {
      "text/html": [
       "<div>\n",
       "<style scoped>\n",
       "    .dataframe tbody tr th:only-of-type {\n",
       "        vertical-align: middle;\n",
       "    }\n",
       "\n",
       "    .dataframe tbody tr th {\n",
       "        vertical-align: top;\n",
       "    }\n",
       "\n",
       "    .dataframe thead th {\n",
       "        text-align: right;\n",
       "    }\n",
       "</style>\n",
       "<table border=\"1\" class=\"dataframe\">\n",
       "  <thead>\n",
       "    <tr style=\"text-align: right;\">\n",
       "      <th></th>\n",
       "      <th>1</th>\n",
       "      <th>2</th>\n",
       "      <th>3</th>\n",
       "      <th>4</th>\n",
       "      <th>5</th>\n",
       "      <th>6</th>\n",
       "      <th>7</th>\n",
       "      <th>8</th>\n",
       "      <th>9</th>\n",
       "      <th>10</th>\n",
       "      <th>each_ball</th>\n",
       "      <th>over</th>\n",
       "    </tr>\n",
       "  </thead>\n",
       "  <tbody>\n",
       "    <tr>\n",
       "      <td>ball</td>\n",
       "      <td>1</td>\n",
       "      <td>0.1</td>\n",
       "      <td>England</td>\n",
       "      <td>ME Trescothick</td>\n",
       "      <td>GO Jones</td>\n",
       "      <td>B Lee</td>\n",
       "      <td>0</td>\n",
       "      <td>0</td>\n",
       "      <td>NaN</td>\n",
       "      <td>NaN</td>\n",
       "      <td>0</td>\n",
       "      <td>0</td>\n",
       "    </tr>\n",
       "    <tr>\n",
       "      <td>ball</td>\n",
       "      <td>1</td>\n",
       "      <td>0.2</td>\n",
       "      <td>England</td>\n",
       "      <td>ME Trescothick</td>\n",
       "      <td>GO Jones</td>\n",
       "      <td>B Lee</td>\n",
       "      <td>1</td>\n",
       "      <td>0</td>\n",
       "      <td>NaN</td>\n",
       "      <td>NaN</td>\n",
       "      <td>1</td>\n",
       "      <td>0</td>\n",
       "    </tr>\n",
       "    <tr>\n",
       "      <td>ball</td>\n",
       "      <td>1</td>\n",
       "      <td>0.3</td>\n",
       "      <td>England</td>\n",
       "      <td>GO Jones</td>\n",
       "      <td>ME Trescothick</td>\n",
       "      <td>B Lee</td>\n",
       "      <td>0</td>\n",
       "      <td>0</td>\n",
       "      <td>NaN</td>\n",
       "      <td>NaN</td>\n",
       "      <td>0</td>\n",
       "      <td>0</td>\n",
       "    </tr>\n",
       "    <tr>\n",
       "      <td>ball</td>\n",
       "      <td>1</td>\n",
       "      <td>0.4</td>\n",
       "      <td>England</td>\n",
       "      <td>GO Jones</td>\n",
       "      <td>ME Trescothick</td>\n",
       "      <td>B Lee</td>\n",
       "      <td>0</td>\n",
       "      <td>0</td>\n",
       "      <td>NaN</td>\n",
       "      <td>NaN</td>\n",
       "      <td>0</td>\n",
       "      <td>0</td>\n",
       "    </tr>\n",
       "    <tr>\n",
       "      <td>ball</td>\n",
       "      <td>1</td>\n",
       "      <td>0.5</td>\n",
       "      <td>England</td>\n",
       "      <td>GO Jones</td>\n",
       "      <td>ME Trescothick</td>\n",
       "      <td>B Lee</td>\n",
       "      <td>0</td>\n",
       "      <td>0</td>\n",
       "      <td>NaN</td>\n",
       "      <td>NaN</td>\n",
       "      <td>0</td>\n",
       "      <td>0</td>\n",
       "    </tr>\n",
       "  </tbody>\n",
       "</table>\n",
       "</div>"
      ],
      "text/plain": [
       "      1    2        3               4               5      6  7  8    9   10  \\\n",
       "ball  1  0.1  England  ME Trescothick        GO Jones  B Lee  0  0  NaN  NaN   \n",
       "ball  1  0.2  England  ME Trescothick        GO Jones  B Lee  1  0  NaN  NaN   \n",
       "ball  1  0.3  England        GO Jones  ME Trescothick  B Lee  0  0  NaN  NaN   \n",
       "ball  1  0.4  England        GO Jones  ME Trescothick  B Lee  0  0  NaN  NaN   \n",
       "ball  1  0.5  England        GO Jones  ME Trescothick  B Lee  0  0  NaN  NaN   \n",
       "\n",
       "      each_ball  over  \n",
       "ball          0     0  \n",
       "ball          1     0  \n",
       "ball          0     0  \n",
       "ball          0     0  \n",
       "ball          0     0  "
      ]
     },
     "execution_count": 13,
     "metadata": {},
     "output_type": "execute_result"
    }
   ],
   "source": [
    "# Creating a new column over in the data \n",
    "cricket_data[\"over\"] = cricket_data[\"2\"].apply(int)\n",
    "\n",
    "# Printing the first five rows\n",
    "cricket_data.head()"
   ]
  },
  {
   "cell_type": "code",
   "execution_count": 14,
   "metadata": {},
   "outputs": [
    {
     "data": {
      "text/plain": [
       "over\n",
       "0     12\n",
       "1     12\n",
       "2     19\n",
       "3     10\n",
       "4     18\n",
       "5     10\n",
       "6     16\n",
       "7     20\n",
       "8     19\n",
       "9     22\n",
       "10    11\n",
       "11     8\n",
       "12    10\n",
       "13     3\n",
       "14    13\n",
       "15     8\n",
       "16    17\n",
       "17     8\n",
       "18    10\n",
       "19    12\n",
       "Name: each_ball, dtype: int64"
      ]
     },
     "execution_count": 14,
     "metadata": {},
     "output_type": "execute_result"
    }
   ],
   "source": [
    "cricket_data.groupby(\"over\")[\"each_ball\"].sum()"
   ]
  },
  {
   "cell_type": "code",
   "execution_count": 15,
   "metadata": {},
   "outputs": [
    {
     "data": {
      "text/plain": [
       "12"
      ]
     },
     "execution_count": 15,
     "metadata": {},
     "output_type": "execute_result"
    }
   ],
   "source": [
    "s = 12.5\n",
    "str(s).split(\".\")[0]\n",
    "int(s)"
   ]
  }
 ],
 "metadata": {
  "kernelspec": {
   "display_name": "Python 3",
   "language": "python",
   "name": "python3"
  },
  "language_info": {
   "codemirror_mode": {
    "name": "ipython",
    "version": 3
   },
   "file_extension": ".py",
   "mimetype": "text/x-python",
   "name": "python",
   "nbconvert_exporter": "python",
   "pygments_lexer": "ipython3",
   "version": "3.7.1"
  }
 },
 "nbformat": 4,
 "nbformat_minor": 2
}
