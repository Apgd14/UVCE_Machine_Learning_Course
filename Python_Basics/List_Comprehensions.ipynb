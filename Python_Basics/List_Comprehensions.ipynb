{
 "cells": [
  {
   "cell_type": "markdown",
   "metadata": {},
   "source": [
    "# List_Comprehensions"
   ]
  },
  {
   "cell_type": "code",
   "execution_count": 5,
   "metadata": {},
   "outputs": [
    {
     "name": "stdout",
     "output_type": "stream",
     "text": [
      "164\n"
     ]
    }
   ],
   "source": [
    "# Adding the numbers of the list using the for loop\n",
    "\n",
    "li = [12, 35, 74, 43]\n",
    "total = 0\n",
    "for i in li:\n",
    "    total += i\n",
    "    \n",
    "print(total)"
   ]
  },
  {
   "cell_type": "code",
   "execution_count": 7,
   "metadata": {},
   "outputs": [
    {
     "name": "stdout",
     "output_type": "stream",
     "text": [
      "[12, 35, 74, 43]\n"
     ]
    }
   ],
   "source": [
    "# Converting a string of intergers into int using the for loop\n",
    "\n",
    "# Initializing a string of integers\n",
    "s = '12, 35, 74, 43'\n",
    "\n",
    "# Creating a null list\n",
    "li = []\n",
    "\n",
    "# For loop \n",
    "for i in s.split(\",\"):\n",
    "    li.append(int(i))\n",
    "\n",
    "# Printing the total\n",
    "print(total)    "
   ]
  },
  {
   "cell_type": "code",
   "execution_count": 10,
   "metadata": {},
   "outputs": [
    {
     "data": {
      "text/plain": [
       "[12, 35, 74, 43]"
      ]
     },
     "execution_count": 10,
     "metadata": {},
     "output_type": "execute_result"
    }
   ],
   "source": [
    "# The above code using a list comprehensions \n",
    "li = [int(i) for i in s.split(\",\")]\n",
    "li"
   ]
  },
  {
   "cell_type": "code",
   "execution_count": 11,
   "metadata": {},
   "outputs": [
    {
     "data": {
      "text/plain": [
       "164"
      ]
     },
     "execution_count": 11,
     "metadata": {},
     "output_type": "execute_result"
    }
   ],
   "source": [
    "# Calculating the sum of the list\n",
    "sum(li)"
   ]
  },
  {
   "cell_type": "code",
   "execution_count": 15,
   "metadata": {},
   "outputs": [
    {
     "name": "stdout",
     "output_type": "stream",
     "text": [
      "[529, 2025, 4624, 54756]\n",
      "61934\n"
     ]
    }
   ],
   "source": [
    "# List comprehensions to sqaure all the elements of the list\n",
    "li = [23,45,68,234]\n",
    "sq = [n*n for n in li]\n",
    "print(sq)\n",
    "print(sum(sq))"
   ]
  },
  {
   "cell_type": "code",
   "execution_count": 16,
   "metadata": {},
   "outputs": [
    {
     "name": "stdout",
     "output_type": "stream",
     "text": [
      "[4, 16, 36, 64]\n",
      "120\n"
     ]
    }
   ],
   "source": [
    "# Using list comprehensions to square only even elements and finding their sum\n",
    "li = [1, 2, 3, 4, 5, 6, 7, 8, 9]\n",
    "even_sq = [n*n for n in li if n % 2 == 0]\n",
    "\n",
    "print(even_sq)\n",
    "print(sum(even_sq))"
   ]
  },
  {
   "cell_type": "code",
   "execution_count": 19,
   "metadata": {},
   "outputs": [
    {
     "data": {
      "text/plain": [
       "3"
      ]
     },
     "execution_count": 19,
     "metadata": {},
     "output_type": "execute_result"
    }
   ],
   "source": [
    "# List Comprehensions to find the number of elements in the list whose length is greater than 3\n",
    "li = ['1 11 111', '222 2 22222']\n",
    "sum(len([w for w in line.split() if len(w) > 2]) for line in li)"
   ]
  },
  {
   "cell_type": "code",
   "execution_count": 20,
   "metadata": {},
   "outputs": [],
   "source": [
    "marksheet = ['1:76,87,73,98,95,52',\n",
    "'2:58,61,44,35,52,81',\n",
    "'3:100,73,67,77,62,94']"
   ]
  },
  {
   "cell_type": "code",
   "execution_count": 21,
   "metadata": {},
   "outputs": [
    {
     "data": {
      "text/plain": [
       "[['1', '76,87,73,98,95,52'],\n",
       " ['2', '58,61,44,35,52,81'],\n",
       " ['3', '100,73,67,77,62,94']]"
      ]
     },
     "execution_count": 21,
     "metadata": {},
     "output_type": "execute_result"
    }
   ],
   "source": [
    "marksheet = [line.split(\":\") for line in marksheet]\n",
    "marksheet"
   ]
  },
  {
   "cell_type": "code",
   "execution_count": 22,
   "metadata": {},
   "outputs": [
    {
     "data": {
      "text/plain": [
       "['1', '2', '3']"
      ]
     },
     "execution_count": 22,
     "metadata": {},
     "output_type": "execute_result"
    }
   ],
   "source": [
    "# Retriving student number from marksheet\n",
    "student_number = [item[0] for item in marksheet]\n",
    "student_number"
   ]
  },
  {
   "cell_type": "code",
   "execution_count": 24,
   "metadata": {},
   "outputs": [
    {
     "data": {
      "text/plain": [
       "['76,87,73,98,95,52', '58,61,44,35,52,81', '100,73,67,77,62,94']"
      ]
     },
     "execution_count": 24,
     "metadata": {},
     "output_type": "execute_result"
    }
   ],
   "source": [
    "# Retriving marks from marksheet\n",
    "marks = [item[1] for item in marksheet]\n",
    "marks"
   ]
  },
  {
   "cell_type": "code",
   "execution_count": 30,
   "metadata": {},
   "outputs": [
    {
     "data": {
      "text/plain": [
       "[481, 331, 473]"
      ]
     },
     "execution_count": 30,
     "metadata": {},
     "output_type": "execute_result"
    }
   ],
   "source": [
    "# Calculating the sum of marks scored by each student\n",
    "total = [sum([int(i) for i in line.split(\",\")]) for line in marks]\n",
    "total"
   ]
  },
  {
   "cell_type": "code",
   "execution_count": 32,
   "metadata": {},
   "outputs": [
    {
     "data": {
      "text/plain": [
       "[[76, 87, 73, 98, 95, 52], [58, 61, 44, 35, 52, 81], [100, 73, 67, 77, 62, 94]]"
      ]
     },
     "execution_count": 32,
     "metadata": {},
     "output_type": "execute_result"
    }
   ],
   "source": [
    "# Retriving the all the marks of the student who has scored above 95 marks \n",
    "m = [[int(i) for i in line.split(\",\")]for line in marks]\n",
    "m"
   ]
  },
  {
   "cell_type": "code",
   "execution_count": 33,
   "metadata": {},
   "outputs": [
    {
     "data": {
      "text/plain": [
       "[[76, 87, 73, 98, 95, 52], [100, 73, 67, 77, 62, 94]]"
      ]
     },
     "execution_count": 33,
     "metadata": {},
     "output_type": "execute_result"
    }
   ],
   "source": [
    "[line for line in m if [i for i in line if i > 95]]"
   ]
  }
 ],
 "metadata": {
  "kernelspec": {
   "display_name": "Python 3",
   "language": "python",
   "name": "python3"
  },
  "language_info": {
   "codemirror_mode": {
    "name": "ipython",
    "version": 3
   },
   "file_extension": ".py",
   "mimetype": "text/x-python",
   "name": "python",
   "nbconvert_exporter": "python",
   "pygments_lexer": "ipython3",
   "version": "3.7.1"
  }
 },
 "nbformat": 4,
 "nbformat_minor": 2
}
