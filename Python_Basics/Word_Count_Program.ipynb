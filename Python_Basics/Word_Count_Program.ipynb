{
 "cells": [
  {
   "cell_type": "markdown",
   "metadata": {},
   "source": [
    "# Program to sum up the number of words using loops and list comprehensions"
   ]
  },
  {
   "cell_type": "code",
   "execution_count": 1,
   "metadata": {},
   "outputs": [
    {
     "name": "stdout",
     "output_type": "stream",
     "text": [
      "The list has 31 words\n"
     ]
    }
   ],
   "source": [
    "li = ['Please help Jeff Geerling by spreading the word about this book on Twitter!', 'The suggested tweet for this book is:', 'I just purchased @Ansible4DevOps by @geerlingguy on @leanpub -', 'https://leanpub.com/ansible-for-devops #ansible']\n",
    "\n",
    "word_count = 0\n",
    "for line in li:\n",
    "    word_count += len(line.split())\n",
    "    \n",
    "print(\"The list has\", word_count, \"words\")"
   ]
  },
  {
   "cell_type": "markdown",
   "metadata": {},
   "source": [
    "# Using List Comprehensions"
   ]
  },
  {
   "cell_type": "code",
   "execution_count": 2,
   "metadata": {},
   "outputs": [
    {
     "name": "stdout",
     "output_type": "stream",
     "text": [
      "The list has 31 words\n"
     ]
    }
   ],
   "source": [
    "li = ['Please help Jeff Geerling by spreading the word about this book on Twitter!', 'The suggested tweet for this book is:', 'I just purchased @Ansible4DevOps by @geerlingguy on @leanpub -', 'https://leanpub.com/ansible-for-devops #ansible']\n",
    "\n",
    "print(\"The list has\" , sum([len(line.split()) for line in li]), \"words\")"
   ]
  }
 ],
 "metadata": {
  "kernelspec": {
   "display_name": "Python 3",
   "language": "python",
   "name": "python3"
  },
  "language_info": {
   "codemirror_mode": {
    "name": "ipython",
    "version": 3
   },
   "file_extension": ".py",
   "mimetype": "text/x-python",
   "name": "python",
   "nbconvert_exporter": "python",
   "pygments_lexer": "ipython3",
   "version": "3.7.1"
  }
 },
 "nbformat": 4,
 "nbformat_minor": 2
}
