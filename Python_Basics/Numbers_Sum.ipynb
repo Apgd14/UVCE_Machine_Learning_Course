{
 "cells": [
  {
   "cell_type": "markdown",
   "metadata": {},
   "source": [
    "## Prompt user for entering comma separated numbers and print the total of the numbers using lists, loops and List comprehensions"
   ]
  },
  {
   "cell_type": "code",
   "execution_count": 2,
   "metadata": {},
   "outputs": [
    {
     "name": "stdout",
     "output_type": "stream",
     "text": [
      "Enter comma separated numbers25, 35, 50\n",
      "25, 35, 50\n",
      "<class 'str'>\n"
     ]
    }
   ],
   "source": [
    "# Prompt for entering a comma separated numbers\n",
    "ui = input(\"Enter comma separated numbers\")\n",
    "\n",
    "# print ui\n",
    "print(ui)\n",
    "\n",
    "# Print type of ui\n",
    "print(type(ui))"
   ]
  },
  {
   "cell_type": "code",
   "execution_count": 3,
   "metadata": {},
   "outputs": [
    {
     "name": "stdout",
     "output_type": "stream",
     "text": [
      "['25', ' 35', ' 50'] <class 'list'>\n"
     ]
    }
   ],
   "source": [
    "# Convert ui to a list \n",
    "li = ui.split(\",\")\n",
    "\n",
    "# Print list and type of the list\n",
    "print(li, type(li))"
   ]
  },
  {
   "cell_type": "code",
   "execution_count": 6,
   "metadata": {},
   "outputs": [
    {
     "name": "stdout",
     "output_type": "stream",
     "text": [
      "110\n"
     ]
    }
   ],
   "source": [
    "# initialize a variable total\n",
    "total = 0\n",
    "\n",
    "# Using for loop add the elements of the list to the total\n",
    "for num in li:\n",
    "    total += int(num)\n",
    "    \n",
    "# Print total\n",
    "print(total)"
   ]
  },
  {
   "cell_type": "markdown",
   "metadata": {},
   "source": [
    "## 2nd Method"
   ]
  },
  {
   "cell_type": "code",
   "execution_count": 8,
   "metadata": {},
   "outputs": [
    {
     "name": "stdout",
     "output_type": "stream",
     "text": [
      "Enter comma separated values25, 35, 50\n",
      "110\n"
     ]
    }
   ],
   "source": [
    "ui = input(\"Enter comma separated values\")\n",
    "total = 0 \n",
    "for num in ui.split(\",\"):\n",
    "    total += int(num)\n",
    "print(total)"
   ]
  },
  {
   "cell_type": "markdown",
   "metadata": {},
   "source": [
    "# Using List Comprehensions"
   ]
  },
  {
   "cell_type": "code",
   "execution_count": 10,
   "metadata": {},
   "outputs": [
    {
     "name": "stdout",
     "output_type": "stream",
     "text": [
      "Enter comma separated values25, 35, 50\n"
     ]
    },
    {
     "data": {
      "text/plain": [
       "110"
      ]
     },
     "execution_count": 10,
     "metadata": {},
     "output_type": "execute_result"
    }
   ],
   "source": [
    "ui = input(\"Enter comma separated values\")\n",
    "sum([int(num) for num in ui.split(\",\")])"
   ]
  }
 ],
 "metadata": {
  "kernelspec": {
   "display_name": "Python 3",
   "language": "python",
   "name": "python3"
  },
  "language_info": {
   "codemirror_mode": {
    "name": "ipython",
    "version": 3
   },
   "file_extension": ".py",
   "mimetype": "text/x-python",
   "name": "python",
   "nbconvert_exporter": "python",
   "pygments_lexer": "ipython3",
   "version": "3.7.1"
  }
 },
 "nbformat": 4,
 "nbformat_minor": 2
}
